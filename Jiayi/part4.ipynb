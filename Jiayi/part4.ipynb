{
 "cells": [
  {
   "cell_type": "code",
   "execution_count": 3,
   "metadata": {},
   "outputs": [],
   "source": [
    "import pandas as pd\n",
    "import numpy as np\n",
    "import matplotlib.pyplot as plt\n",
    "import seaborn as sns\n",
    "\n",
    "import xgboost as xgb\n",
    "from sklearn.metrics import mean_squared_error\n",
    "color_pal = sns.color_palette()\n",
    "plt.style.use('fivethirtyeight')"
   ]
  },
  {
   "cell_type": "markdown",
   "metadata": {},
   "source": [
    "df = pd.read_csv('PJME_hourly.csv')\n",
    "df = df.set_index('Datetime')\n",
    "df.index = pd.to_datetime(df.index)"
   ]
  },
  {
   "cell_type": "markdown",
   "metadata": {},
   "source": [
    "df.plot(style='.',\n",
    "        figsize=(15, 5),\n",
    "        color=color_pal[0],\n",
    "        title='PJME Energy Use in MW')\n",
    "plt.show()"
   ]
  },
  {
   "cell_type": "markdown",
   "metadata": {},
   "source": [
    "df['PJME_MW'].plot(kind='hist', bins=500)"
   ]
  },
  {
   "cell_type": "markdown",
   "metadata": {},
   "source": [
    "df.query('PJME_MW < 20_000')['PJME_MW'] \\\n",
    "    .plot(style='.',\n",
    "          figsize=(15, 5),\n",
    "          color=color_pal[5],\n",
    "          title='Outliers')"
   ]
  },
  {
   "cell_type": "markdown",
   "metadata": {},
   "source": [
    "df = df.query('PJME_MW > 19_000').copy()"
   ]
  },
  {
   "cell_type": "markdown",
   "metadata": {},
   "source": [
    "train = df.loc[df.index < '01-01-2015']\n",
    "test = df.loc[df.index >= '01-01-2015']\n",
    "\n",
    "fig, ax = plt.subplots(figsize=(15, 5))\n",
    "train.plot(ax=ax, label='Training Set', title='Data Train/Test Split')\n",
    "test.plot(ax=ax, label='Test Set')\n",
    "ax.axvline('01-01-2015', color='black', ls='--')\n",
    "ax.legend(['Training Set', 'Test Set'])\n",
    "plt.show()"
   ]
  },
  {
   "cell_type": "markdown",
   "metadata": {},
   "source": [
    "from sklearn.model_selection import TimeSeriesSplit\n",
    "\n",
    "tss = TimeSeriesSplit(n_splits=5, test_size=24*365*1, gap=24)\n",
    "df = df.sort_index()"
   ]
  },
  {
   "cell_type": "markdown",
   "metadata": {},
   "source": [
    "fig, axs = plt.subplots(5, 1, figsize=(15, 15), sharex=True)\n",
    "\n",
    "fold = 0\n",
    "for train_idx, val_idx in tss.split(df):\n",
    "    train = df.iloc[train_idx]\n",
    "    test = df.iloc[val_idx]\n",
    "    train['PJME_MW'].plot(ax=axs[fold],\n",
    "                          label='Training Set',\n",
    "                          title=f'Data Train/Test Split Fold {fold}')\n",
    "    test['PJME_MW'].plot(ax=axs[fold],\n",
    "                         label='Test Set')\n",
    "    axs[fold].axvline(test.index.min(), color='black', ls='--')\n",
    "    fold += 1\n",
    "plt.show()"
   ]
  },
  {
   "cell_type": "markdown",
   "metadata": {},
   "source": [
    "def create_features(df):\n",
    "    \"\"\"\n",
    "    Create time series features based on time series index.\n",
    "    \"\"\"\n",
    "    df = df.copy()\n",
    "    df['hour'] = df.index.hour\n",
    "    df['dayofweek'] = df.index.dayofweek\n",
    "    df['quarter'] = df.index.quarter\n",
    "    df['month'] = df.index.month\n",
    "    df['year'] = df.index.year\n",
    "    df['dayofyear'] = df.index.dayofyear\n",
    "    df['dayofmonth'] = df.index.day\n",
    "    df['weekofyear'] = df.index.isocalendar().week\n",
    "    return df\n",
    "\n",
    "df = create_features(df)"
   ]
  },
  {
   "cell_type": "markdown",
   "metadata": {},
   "source": [
    "def add_lags(df):\n",
    "    target_map = df['PJME_MW'].to_dict()\n",
    "    df['lag1'] = (df.index - pd.Timedelta('364 days')).map(target_map)\n",
    "    df['lag2'] = (df.index - pd.Timedelta('728 days')).map(target_map)\n",
    "    df['lag3'] = (df.index - pd.Timedelta('1092 days')).map(target_map)\n",
    "    return df"
   ]
  },
  {
   "cell_type": "markdown",
   "metadata": {},
   "source": [
    "df = add_lags(df)"
   ]
  },
  {
   "cell_type": "markdown",
   "metadata": {},
   "source": [
    "df.tail()"
   ]
  },
  {
   "cell_type": "markdown",
   "metadata": {},
   "source": [
    "tss = TimeSeriesSplit(n_splits=5, test_size=24*365*1, gap=24)\n",
    "df = df.sort_index()\n",
    "\n",
    "\n",
    "fold = 0\n",
    "preds = []\n",
    "scores = []\n",
    "for train_idx, val_idx in tss.split(df):\n",
    "    train = df.iloc[train_idx]\n",
    "    test = df.iloc[val_idx]\n",
    "\n",
    "    train = create_features(train)\n",
    "    test = create_features(test)\n",
    "\n",
    "    FEATURES = ['dayofyear', 'hour', 'dayofweek', 'quarter', 'month','year',\n",
    "                'lag1','lag2','lag3']\n",
    "    TARGET = 'PJME_MW'\n",
    "\n",
    "    X_train = train[FEATURES]\n",
    "    y_train = train[TARGET]\n",
    "\n",
    "    X_test = test[FEATURES]\n",
    "    y_test = test[TARGET]\n",
    "\n",
    "    reg = xgb.XGBRegressor(base_score=0.5, booster='gbtree',    \n",
    "                           n_estimators=1000,\n",
    "                           early_stopping_rounds=50,\n",
    "                           max_depth=3,\n",
    "                           learning_rate=0.01)\n",
    "    reg.fit(X_train, y_train,\n",
    "            eval_set=[(X_train, y_train), (X_test, y_test)],\n",
    "            verbose=100)\n",
    "\n",
    "    y_pred = reg.predict(X_test)\n",
    "    preds.append(y_pred)\n",
    "    score = np.sqrt(mean_squared_error(y_test, y_pred))\n",
    "    scores.append(score)"
   ]
  },
  {
   "cell_type": "markdown",
   "metadata": {},
   "source": [
    "print(f'Score across folds {np.mean(scores):0.4f}')\n",
    "print(f'Fold scores:{scores}')"
   ]
  },
  {
   "cell_type": "markdown",
   "metadata": {},
   "source": [
    "df = create_features(df)\n",
    "\n",
    "FEATURES = ['dayofyear', 'hour', 'dayofweek', 'quarter', 'month', 'year',\n",
    "            'lag1','lag2','lag3']\n",
    "TARGET = 'PJME_MW'\n",
    "\n",
    "X_all = df[FEATURES]\n",
    "y_all = df[TARGET]\n",
    "\n",
    "reg = xgb.XGBRegressor(base_score=0.5,\n",
    "                       booster='gbtree',    \n",
    "                       n_estimators=500,\n",
    "                       max_depth=3,\n",
    "                       learning_rate=0.01)\n",
    "reg.fit(X_all, y_all,\n",
    "        eval_set=[(X_all, y_all)],\n",
    "        verbose=100)"
   ]
  },
  {
   "cell_type": "markdown",
   "metadata": {},
   "source": [
    "df.index.max()"
   ]
  },
  {
   "cell_type": "markdown",
   "metadata": {},
   "source": [
    "future = pd.date_range('2018-08-03','2019-08-01', freq='1h')\n",
    "future_df = pd.DataFrame(index=future)\n",
    "future_df['isFuture'] = True\n",
    "df['isFuture'] = False\n",
    "df_and_future = pd.concat([df, future_df])\n",
    "df_and_future = create_features(df_and_future)\n",
    "df_and_future = add_lags(df_and_future)"
   ]
  },
  {
   "cell_type": "markdown",
   "metadata": {},
   "source": [
    "future_w_features = df_and_future.query('isFuture').copy()"
   ]
  },
  {
   "cell_type": "markdown",
   "metadata": {},
   "source": [
    "future_w_features['pred'] = reg.predict(future_w_features[FEATURES])"
   ]
  },
  {
   "cell_type": "markdown",
   "metadata": {},
   "source": [
    "future_w_features['pred'].plot(figsize=(10, 5),\n",
    "                               color=color_pal[4],\n",
    "                               ms=1,\n",
    "                               lw=1,\n",
    "                               title='Future Predictions')\n",
    "plt.show()"
   ]
  },
  {
   "cell_type": "markdown",
   "metadata": {},
   "source": [
    "reg.save_model('model.json')"
   ]
  },
  {
   "cell_type": "markdown",
   "metadata": {},
   "source": [
    "reg_new = xgb.XGBRegressor()\n",
    "reg_new.load_model('model.json')"
   ]
  },
  {
   "cell_type": "markdown",
   "metadata": {},
   "source": [
    "! 1s -1h"
   ]
  },
  {
   "cell_type": "markdown",
   "metadata": {},
   "source": [
    "future_w_features['pred'] = reg_new.predict(future_w_features[FEATURES])\n",
    "future_w_features['pred'].plot(figsize=(10, 5),\n",
    "                               color=color_pal[4],\n",
    "                               ms=1, lw=1,\n",
    "                               title='Future Predictions')"
   ]
  }
 ],
 "metadata": {
  "kernelspec": {
   "display_name": "Python 3",
   "language": "python",
   "name": "python3"
  },
  "language_info": {
   "codemirror_mode": {
    "name": "ipython",
    "version": 3
   },
   "file_extension": ".py",
   "mimetype": "text/x-python",
   "name": "python",
   "nbconvert_exporter": "python",
   "pygments_lexer": "ipython3",
   "version": "3.11.5"
  }
 },
 "nbformat": 4,
 "nbformat_minor": 2
}
