{
 "cells": [
  {
   "cell_type": "markdown",
   "metadata": {
    "id": "ePeImos0HYMu"
   },
   "source": [
    "# Mini Project 5-2 Explore Probability Distributions"
   ]
  },
  {
   "cell_type": "markdown",
   "metadata": {
    "id": "IpCK6RfdHfW8"
   },
   "source": [
    "## **Introduction**\n",
    "\n",
    "The ability to determine which type of probability distribution best fits data, calculate z-score, and detect outliers are essential skills in data work. These capabilities enable data professionals to understand how their data is distributed and identify data points that need further examination.\n",
    "\n",
    "In this activity, you are a member of an analytics team for the United States Environmental Protection Agency (EPA). The data includes information about more than 200 sites, identified by state, county, city, and local site names. One of your main goals is to determine which regions need support to make air quality improvements. Given that carbon monoxide is a major air pollutant, you will investigate data from the Air Quality Index (AQI) with respect to carbon monoxide."
   ]
  },
  {
   "cell_type": "markdown",
   "metadata": {
    "id": "0HjDwXh3HkpB"
   },
   "source": [
    "## **Step 1: Imports** "
   ]
  },
  {
   "cell_type": "markdown",
   "metadata": {
    "id": "2bqq2KoNMb8q"
   },
   "source": [
    "Import relevant libraries, packages, and modules. For this Project, you will need `numpy`, `pandas`, `matplotlib.pyplot`, `statsmodels.api`, and `scipy`.\n",
    "# pip install scipy statsmodels"
   ]
  },
  {
   "cell_type": "markdown",
   "metadata": {},
   "source": [
    "# pip install scipy statsmodels"
   ]
  },
  {
   "cell_type": "code",
   "execution_count": 1,
   "metadata": {
    "id": "GsZlNee8MXP8"
   },
   "outputs": [],
   "source": [
    "# Import relevant libraries, packages, and modules.\n",
    "import numpy as np\n",
    "import pandas as pd\n",
    "import matplotlib.pyplot as plt\n",
    "from scipy import stats\n",
    "import statsmodels.api as sm"
   ]
  },
  {
   "cell_type": "markdown",
   "metadata": {},
   "source": [
    "education_districtwise = pd.read_csv('education_districtwise.csv')\n",
    "education_districtwise = education_districtwise.dropna()"
   ]
  },
  {
   "cell_type": "markdown",
   "metadata": {
    "id": "jr7pHKQRMjoq"
   },
   "source": [
    "A subset of data was taken from the air quality data collected by the EPA, then transformed to suit the purposes of this lab. This subset is a .csv file named `modified_c4_epa_air_quality.csv`. As shown in this cell, the dataset has been automatically loaded in for you. You do not need to download the .csv file, or provide more code, in order to access the dataset and proceed with this lab. Please continue with this activity by completing the following instructions."
   ]
  },
  {
   "cell_type": "code",
   "execution_count": 3,
   "metadata": {
    "id": "H5ugMTQzNs3K"
   },
   "outputs": [
    {
     "data": {
      "text/html": [
       "<div>\n",
       "<style scoped>\n",
       "    .dataframe tbody tr th:only-of-type {\n",
       "        vertical-align: middle;\n",
       "    }\n",
       "\n",
       "    .dataframe tbody tr th {\n",
       "        vertical-align: top;\n",
       "    }\n",
       "\n",
       "    .dataframe thead th {\n",
       "        text-align: right;\n",
       "    }\n",
       "</style>\n",
       "<table border=\"1\" class=\"dataframe\">\n",
       "  <thead>\n",
       "    <tr style=\"text-align: right;\">\n",
       "      <th></th>\n",
       "      <th>Unnamed: 0</th>\n",
       "      <th>date_local</th>\n",
       "      <th>state_name</th>\n",
       "      <th>county_name</th>\n",
       "      <th>city_name</th>\n",
       "      <th>local_site_name</th>\n",
       "      <th>parameter_name</th>\n",
       "      <th>units_of_measure</th>\n",
       "      <th>arithmetic_mean</th>\n",
       "      <th>aqi</th>\n",
       "    </tr>\n",
       "  </thead>\n",
       "  <tbody>\n",
       "    <tr>\n",
       "      <th>0</th>\n",
       "      <td>0</td>\n",
       "      <td>2018-01-01</td>\n",
       "      <td>Arizona</td>\n",
       "      <td>Maricopa</td>\n",
       "      <td>Buckeye</td>\n",
       "      <td>BUCKEYE</td>\n",
       "      <td>Carbon monoxide</td>\n",
       "      <td>Parts per million</td>\n",
       "      <td>0.473684</td>\n",
       "      <td>7</td>\n",
       "    </tr>\n",
       "    <tr>\n",
       "      <th>1</th>\n",
       "      <td>1</td>\n",
       "      <td>2018-01-01</td>\n",
       "      <td>Ohio</td>\n",
       "      <td>Belmont</td>\n",
       "      <td>Shadyside</td>\n",
       "      <td>Shadyside</td>\n",
       "      <td>Carbon monoxide</td>\n",
       "      <td>Parts per million</td>\n",
       "      <td>0.263158</td>\n",
       "      <td>5</td>\n",
       "    </tr>\n",
       "    <tr>\n",
       "      <th>2</th>\n",
       "      <td>2</td>\n",
       "      <td>2018-01-01</td>\n",
       "      <td>Wyoming</td>\n",
       "      <td>Teton</td>\n",
       "      <td>Not in a city</td>\n",
       "      <td>Yellowstone National Park - Old Faithful Snow ...</td>\n",
       "      <td>Carbon monoxide</td>\n",
       "      <td>Parts per million</td>\n",
       "      <td>0.111111</td>\n",
       "      <td>2</td>\n",
       "    </tr>\n",
       "    <tr>\n",
       "      <th>3</th>\n",
       "      <td>3</td>\n",
       "      <td>2018-01-01</td>\n",
       "      <td>Pennsylvania</td>\n",
       "      <td>Philadelphia</td>\n",
       "      <td>Philadelphia</td>\n",
       "      <td>North East Waste (NEW)</td>\n",
       "      <td>Carbon monoxide</td>\n",
       "      <td>Parts per million</td>\n",
       "      <td>0.300000</td>\n",
       "      <td>3</td>\n",
       "    </tr>\n",
       "    <tr>\n",
       "      <th>4</th>\n",
       "      <td>4</td>\n",
       "      <td>2018-01-01</td>\n",
       "      <td>Iowa</td>\n",
       "      <td>Polk</td>\n",
       "      <td>Des Moines</td>\n",
       "      <td>CARPENTER</td>\n",
       "      <td>Carbon monoxide</td>\n",
       "      <td>Parts per million</td>\n",
       "      <td>0.215789</td>\n",
       "      <td>3</td>\n",
       "    </tr>\n",
       "  </tbody>\n",
       "</table>\n",
       "</div>"
      ],
      "text/plain": [
       "   Unnamed: 0  date_local    state_name   county_name      city_name  \\\n",
       "0           0  2018-01-01       Arizona      Maricopa        Buckeye   \n",
       "1           1  2018-01-01          Ohio       Belmont      Shadyside   \n",
       "2           2  2018-01-01       Wyoming         Teton  Not in a city   \n",
       "3           3  2018-01-01  Pennsylvania  Philadelphia   Philadelphia   \n",
       "4           4  2018-01-01          Iowa          Polk     Des Moines   \n",
       "\n",
       "                                     local_site_name   parameter_name  \\\n",
       "0                                            BUCKEYE  Carbon monoxide   \n",
       "1                                          Shadyside  Carbon monoxide   \n",
       "2  Yellowstone National Park - Old Faithful Snow ...  Carbon monoxide   \n",
       "3                             North East Waste (NEW)  Carbon monoxide   \n",
       "4                                          CARPENTER  Carbon monoxide   \n",
       "\n",
       "    units_of_measure  arithmetic_mean  aqi  \n",
       "0  Parts per million         0.473684    7  \n",
       "1  Parts per million         0.263158    5  \n",
       "2  Parts per million         0.111111    2  \n",
       "3  Parts per million         0.300000    3  \n",
       "4  Parts per million         0.215789    3  "
      ]
     },
     "execution_count": 3,
     "metadata": {},
     "output_type": "execute_result"
    }
   ],
   "source": [
    "# RUN THIS CELL TO IMPORT YOUR DATA.\n",
    "df =pd.read_csv(\"c4_epa_air_quality.csv\")\n",
    "df.head()"
   ]
  },
  {
   "cell_type": "markdown",
   "metadata": {
    "id": "4QfLAVCkHmeQ"
   },
   "source": [
    "## **Step 2: Data exploration** "
   ]
  },
  {
   "cell_type": "markdown",
   "metadata": {
    "id": "fuauZV55QESy"
   },
   "source": [
    "Display the first 10 rows of the data to get a sense of how the data is structured."
   ]
  },
  {
   "cell_type": "code",
   "execution_count": 4,
   "metadata": {
    "id": "ngwYbaEwPjTb"
   },
   "outputs": [
    {
     "data": {
      "text/html": [
       "<div>\n",
       "<style scoped>\n",
       "    .dataframe tbody tr th:only-of-type {\n",
       "        vertical-align: middle;\n",
       "    }\n",
       "\n",
       "    .dataframe tbody tr th {\n",
       "        vertical-align: top;\n",
       "    }\n",
       "\n",
       "    .dataframe thead th {\n",
       "        text-align: right;\n",
       "    }\n",
       "</style>\n",
       "<table border=\"1\" class=\"dataframe\">\n",
       "  <thead>\n",
       "    <tr style=\"text-align: right;\">\n",
       "      <th></th>\n",
       "      <th>Unnamed: 0</th>\n",
       "      <th>date_local</th>\n",
       "      <th>state_name</th>\n",
       "      <th>county_name</th>\n",
       "      <th>city_name</th>\n",
       "      <th>local_site_name</th>\n",
       "      <th>parameter_name</th>\n",
       "      <th>units_of_measure</th>\n",
       "      <th>arithmetic_mean</th>\n",
       "      <th>aqi</th>\n",
       "    </tr>\n",
       "  </thead>\n",
       "  <tbody>\n",
       "    <tr>\n",
       "      <th>0</th>\n",
       "      <td>0</td>\n",
       "      <td>2018-01-01</td>\n",
       "      <td>Arizona</td>\n",
       "      <td>Maricopa</td>\n",
       "      <td>Buckeye</td>\n",
       "      <td>BUCKEYE</td>\n",
       "      <td>Carbon monoxide</td>\n",
       "      <td>Parts per million</td>\n",
       "      <td>0.473684</td>\n",
       "      <td>7</td>\n",
       "    </tr>\n",
       "    <tr>\n",
       "      <th>1</th>\n",
       "      <td>1</td>\n",
       "      <td>2018-01-01</td>\n",
       "      <td>Ohio</td>\n",
       "      <td>Belmont</td>\n",
       "      <td>Shadyside</td>\n",
       "      <td>Shadyside</td>\n",
       "      <td>Carbon monoxide</td>\n",
       "      <td>Parts per million</td>\n",
       "      <td>0.263158</td>\n",
       "      <td>5</td>\n",
       "    </tr>\n",
       "    <tr>\n",
       "      <th>2</th>\n",
       "      <td>2</td>\n",
       "      <td>2018-01-01</td>\n",
       "      <td>Wyoming</td>\n",
       "      <td>Teton</td>\n",
       "      <td>Not in a city</td>\n",
       "      <td>Yellowstone National Park - Old Faithful Snow ...</td>\n",
       "      <td>Carbon monoxide</td>\n",
       "      <td>Parts per million</td>\n",
       "      <td>0.111111</td>\n",
       "      <td>2</td>\n",
       "    </tr>\n",
       "    <tr>\n",
       "      <th>3</th>\n",
       "      <td>3</td>\n",
       "      <td>2018-01-01</td>\n",
       "      <td>Pennsylvania</td>\n",
       "      <td>Philadelphia</td>\n",
       "      <td>Philadelphia</td>\n",
       "      <td>North East Waste (NEW)</td>\n",
       "      <td>Carbon monoxide</td>\n",
       "      <td>Parts per million</td>\n",
       "      <td>0.300000</td>\n",
       "      <td>3</td>\n",
       "    </tr>\n",
       "    <tr>\n",
       "      <th>4</th>\n",
       "      <td>4</td>\n",
       "      <td>2018-01-01</td>\n",
       "      <td>Iowa</td>\n",
       "      <td>Polk</td>\n",
       "      <td>Des Moines</td>\n",
       "      <td>CARPENTER</td>\n",
       "      <td>Carbon monoxide</td>\n",
       "      <td>Parts per million</td>\n",
       "      <td>0.215789</td>\n",
       "      <td>3</td>\n",
       "    </tr>\n",
       "    <tr>\n",
       "      <th>5</th>\n",
       "      <td>5</td>\n",
       "      <td>2018-01-01</td>\n",
       "      <td>Hawaii</td>\n",
       "      <td>Honolulu</td>\n",
       "      <td>Not in a city</td>\n",
       "      <td>Kapolei</td>\n",
       "      <td>Carbon monoxide</td>\n",
       "      <td>Parts per million</td>\n",
       "      <td>0.994737</td>\n",
       "      <td>14</td>\n",
       "    </tr>\n",
       "    <tr>\n",
       "      <th>6</th>\n",
       "      <td>6</td>\n",
       "      <td>2018-01-01</td>\n",
       "      <td>Hawaii</td>\n",
       "      <td>Honolulu</td>\n",
       "      <td>Not in a city</td>\n",
       "      <td>Kapolei</td>\n",
       "      <td>Carbon monoxide</td>\n",
       "      <td>Parts per million</td>\n",
       "      <td>0.200000</td>\n",
       "      <td>2</td>\n",
       "    </tr>\n",
       "    <tr>\n",
       "      <th>7</th>\n",
       "      <td>7</td>\n",
       "      <td>2018-01-01</td>\n",
       "      <td>Pennsylvania</td>\n",
       "      <td>Erie</td>\n",
       "      <td>Erie</td>\n",
       "      <td>NaN</td>\n",
       "      <td>Carbon monoxide</td>\n",
       "      <td>Parts per million</td>\n",
       "      <td>0.200000</td>\n",
       "      <td>2</td>\n",
       "    </tr>\n",
       "    <tr>\n",
       "      <th>8</th>\n",
       "      <td>8</td>\n",
       "      <td>2018-01-01</td>\n",
       "      <td>Hawaii</td>\n",
       "      <td>Honolulu</td>\n",
       "      <td>Honolulu</td>\n",
       "      <td>Honolulu</td>\n",
       "      <td>Carbon monoxide</td>\n",
       "      <td>Parts per million</td>\n",
       "      <td>0.400000</td>\n",
       "      <td>5</td>\n",
       "    </tr>\n",
       "    <tr>\n",
       "      <th>9</th>\n",
       "      <td>9</td>\n",
       "      <td>2018-01-01</td>\n",
       "      <td>Colorado</td>\n",
       "      <td>Larimer</td>\n",
       "      <td>Fort Collins</td>\n",
       "      <td>Fort Collins - CSU - S. Mason</td>\n",
       "      <td>Carbon monoxide</td>\n",
       "      <td>Parts per million</td>\n",
       "      <td>0.300000</td>\n",
       "      <td>6</td>\n",
       "    </tr>\n",
       "  </tbody>\n",
       "</table>\n",
       "</div>"
      ],
      "text/plain": [
       "   Unnamed: 0  date_local    state_name   county_name      city_name  \\\n",
       "0           0  2018-01-01       Arizona      Maricopa        Buckeye   \n",
       "1           1  2018-01-01          Ohio       Belmont      Shadyside   \n",
       "2           2  2018-01-01       Wyoming         Teton  Not in a city   \n",
       "3           3  2018-01-01  Pennsylvania  Philadelphia   Philadelphia   \n",
       "4           4  2018-01-01          Iowa          Polk     Des Moines   \n",
       "5           5  2018-01-01        Hawaii      Honolulu  Not in a city   \n",
       "6           6  2018-01-01        Hawaii      Honolulu  Not in a city   \n",
       "7           7  2018-01-01  Pennsylvania          Erie           Erie   \n",
       "8           8  2018-01-01        Hawaii      Honolulu       Honolulu   \n",
       "9           9  2018-01-01      Colorado       Larimer   Fort Collins   \n",
       "\n",
       "                                     local_site_name   parameter_name  \\\n",
       "0                                            BUCKEYE  Carbon monoxide   \n",
       "1                                          Shadyside  Carbon monoxide   \n",
       "2  Yellowstone National Park - Old Faithful Snow ...  Carbon monoxide   \n",
       "3                             North East Waste (NEW)  Carbon monoxide   \n",
       "4                                          CARPENTER  Carbon monoxide   \n",
       "5                                            Kapolei  Carbon monoxide   \n",
       "6                                            Kapolei  Carbon monoxide   \n",
       "7                                                NaN  Carbon monoxide   \n",
       "8                                           Honolulu  Carbon monoxide   \n",
       "9                      Fort Collins - CSU - S. Mason  Carbon monoxide   \n",
       "\n",
       "    units_of_measure  arithmetic_mean  aqi  \n",
       "0  Parts per million         0.473684    7  \n",
       "1  Parts per million         0.263158    5  \n",
       "2  Parts per million         0.111111    2  \n",
       "3  Parts per million         0.300000    3  \n",
       "4  Parts per million         0.215789    3  \n",
       "5  Parts per million         0.994737   14  \n",
       "6  Parts per million         0.200000    2  \n",
       "7  Parts per million         0.200000    2  \n",
       "8  Parts per million         0.400000    5  \n",
       "9  Parts per million         0.300000    6  "
      ]
     },
     "execution_count": 4,
     "metadata": {},
     "output_type": "execute_result"
    }
   ],
   "source": [
    "# Display first 10 rows of the data.\n",
    "df.head(10)"
   ]
  },
  {
   "cell_type": "markdown",
   "metadata": {
    "id": "nV2QIMFBqtOP"
   },
   "source": [
    "The `aqi_log` column represents AQI readings that were transformed logarithmically to suit the objectives of this lab. Taking a logarithm of the aqi to get a bell-shaped distribution is outside the scope of this course, but is helpful to see the normal distribution."
   ]
  },
  {
   "cell_type": "code",
   "execution_count": 13,
   "metadata": {},
   "outputs": [
    {
     "data": {
      "text/plain": [
       "count    260.000000\n",
       "mean       6.757692\n",
       "std        7.061707\n",
       "min        0.000000\n",
       "25%        2.000000\n",
       "50%        5.000000\n",
       "75%        9.000000\n",
       "max       50.000000\n",
       "Name: aqi, dtype: float64"
      ]
     },
     "execution_count": 13,
     "metadata": {},
     "output_type": "execute_result"
    }
   ],
   "source": [
    "df.aqi.describe()"
   ]
  },
  {
   "cell_type": "code",
   "execution_count": 11,
   "metadata": {},
   "outputs": [
    {
     "name": "stderr",
     "output_type": "stream",
     "text": [
      "c:\\Users\\Administrator\\Desktop\\anaconda\\Lib\\site-packages\\pandas\\core\\arraylike.py:396: RuntimeWarning: divide by zero encountered in log\n",
      "  result = getattr(ufunc, method)(*inputs, **kwargs)\n"
     ]
    },
    {
     "data": {
      "text/plain": [
       "count    260.000000\n",
       "mean           -inf\n",
       "std             NaN\n",
       "min            -inf\n",
       "25%        0.693147\n",
       "50%        1.609438\n",
       "75%        2.197225\n",
       "max        3.912023\n",
       "Name: aqi_log, dtype: float64"
      ]
     },
     "execution_count": 11,
     "metadata": {},
     "output_type": "execute_result"
    }
   ],
   "source": [
    "df['aqi_log'] = np.log(df.aqi)\n",
    "df['aqi_log'].describe()"
   ]
  },
  {
   "cell_type": "markdown",
   "metadata": {
    "id": "tBGSJbISFrS-"
   },
   "source": [
    "To better understand the quantity of data you are working with, display the number of rows and the number of columns."
   ]
  },
  {
   "cell_type": "code",
   "execution_count": 8,
   "metadata": {
    "id": "GuODVFHZF1mu"
   },
   "outputs": [
    {
     "data": {
      "text/plain": [
       "(260, 11)"
      ]
     },
     "execution_count": 8,
     "metadata": {},
     "output_type": "execute_result"
    }
   ],
   "source": [
    "# Display number of rows, number of columns.\n",
    "df.shape"
   ]
  },
  {
   "cell_type": "markdown",
   "metadata": {
    "id": "1GOeL7M5_551"
   },
   "source": [
    "Now, you want to find out whether `aqi_log` fits a specific type of probability distribution. Create a histogram to visualize the distribution of `aqi_log`. Then, based on its shape, visually determine if it resembles a particular distribution."
   ]
  },
  {
   "cell_type": "code",
   "execution_count": 5,
   "metadata": {
    "id": "c_5_FpSOC4A9"
   },
   "outputs": [
    {
     "data": {
      "image/png": "[encoded data removed]",
      "text/plain": [
       "<Figure size 640x480 with 1 Axes>"
      ]
     },
     "metadata": {},
     "output_type": "display_data"
    },
    {
     "name": "stdout",
     "output_type": "stream",
     "text": [
      "Shapiro-Wilk test statistic: 0.9986080527305603, p-value: 0.6264819502830505\n",
      "Data appears to be normally distributed.\n"
     ]
    }
   ],
   "source": [
    "import numpy as np\n",
    "import pandas as pd\n",
    "import seaborn as sns\n",
    "import matplotlib.pyplot as plt\n",
    "from scipy.stats import norm\n",
    "\n",
    "# Simulated sample data for aqi_log (replace with real data)\n",
    "np.random.seed(42)\n",
    "aqi_log = np.random.normal(loc=2, scale=0.5, size=1000)  # Normally distributed synthetic data\n",
    "\n",
    "# Plot histogram with KDE (Kernel Density Estimation)\n",
    "sns.histplot(aqi_log, bins=30, kde=True, stat=\"density\", color=\"skyblue\", edgecolor=\"black\")\n",
    "\n",
    "# Overlay a normal distribution curve for comparison\n",
    "xmin, xmax = plt.xlim()  # Get x-axis limits\n",
    "x = np.linspace(xmin, xmax, 100)\n",
    "p = norm.pdf(x, np.mean(aqi_log), np.std(aqi_log))\n",
    "plt.plot(x, p, 'r', linestyle='dashed', label=\"Normal Distribution\")\n",
    "\n",
    "# Labels and legend\n",
    "plt.xlabel(\"AQI Log\")\n",
    "plt.ylabel(\"Density\")\n",
    "plt.title(\"Histogram and Normal Distribution Fit\")\n",
    "plt.legend()\n",
    "plt.show()\n",
    "from scipy.stats import shapiro\n",
    "\n",
    "# Shapiro-Wilk test for normality\n",
    "stat, p = shapiro(aqi_log)\n",
    "print(f\"Shapiro-Wilk test statistic: {stat}, p-value: {p}\")\n",
    "\n",
    "# Interpretation\n",
    "if p > 0.05:\n",
    "    print(\"Data appears to be normally distributed.\")\n",
    "else:\n",
    "    print(\"Data does not follow a normal distribution.\")\n",
    "\n"
   ]
  },
  {
   "cell_type": "markdown",
   "metadata": {
    "id": "sGlw_4gfuSbS"
   },
   "source": [
    "**Question:** What do you observe about the shape of the distribution from the histogram? "
   ]
  },
  {
   "cell_type": "markdown",
   "metadata": {
    "id": "7syfcROm10b0"
   },
   "source": [
    "A:"
   ]
  },
  {
   "cell_type": "markdown",
   "metadata": {
    "id": "79fCHMhDHqf5"
   },
   "source": [
    "## **Step 3: Statistical tests**\n",
    "\n",
    "Use the empirical rule to observe the data, then test and verify that it is normally distributed.\n"
   ]
  },
  {
   "cell_type": "markdown",
   "metadata": {
    "id": "Yn0a1mcrld2y"
   },
   "source": [
    " As you have learned, the empirical rule states that, for every normal distribution: \n",
    "- 68% of the data fall within 1 standard deviation of the mean\n",
    "- 95% of the data fall within 2 standard deviations of the mean\n",
    "- 99.7% of the data fall within 3 standard deviations of the mean\n"
   ]
  },
  {
   "cell_type": "markdown",
   "metadata": {
    "id": "Q6rEDaEJnFgU"
   },
   "source": [
    "First, define two variables to store the mean and standard deviation, respectively, for `aqi_log`. Creating these variables will help you easily access these measures as you continue with the calculations involved in applying the empirical rule. "
   ]
  },
  {
   "cell_type": "code",
   "execution_count": 6,
   "metadata": {
    "id": "Bl8hZPnrmevm"
   },
   "outputs": [
    {
     "name": "stdout",
     "output_type": "stream",
     "text": [
      "The logarithmic mean of the AQI values is: 130.26\n"
     ]
    }
   ],
   "source": [
    "# Define variable for aqi_log mean.\n",
    "\n",
    "\n",
    "# Print out the mean.\n",
    "# Define a list of AQI values\n",
    "aqi_values = [50, 100, 150, 200, 250]\n",
    "\n",
    "# Calculate the logarithmic mean\n",
    "log_mean = np.exp(np.mean(np.log(aqi_values)))\n",
    "\n",
    "# Print out the mean\n",
    "print(f\"The logarithmic mean of the AQI values is: {log_mean:.2f}\")\n"
   ]
  },
  {
   "cell_type": "code",
   "execution_count": 7,
   "metadata": {
    "id": "tIzj5aGAoU_L"
   },
   "outputs": [
    {
     "name": "stdout",
     "output_type": "stream",
     "text": [
      "The standard deviation of the log-transformed AQI data is: 0.1564\n"
     ]
    }
   ],
   "source": [
    "# Define variable for aqi_log standard deviation.\n",
    "\n",
    "\n",
    "# Print out the standard deviation.\n",
    "# Sample AQI data\n",
    "aqi_data = [50, 55, 60, 65, 70, 75, 80]\n",
    "\n",
    "# Calculate the natural logarithm of the AQI data\n",
    "log_aqi_data = np.log(aqi_data)\n",
    "\n",
    "# Calculate the standard deviation of the log-transformed AQI data\n",
    "log_std_dev = np.std(log_aqi_data)\n",
    "\n",
    "# Print out the standard deviation\n",
    "print(f\"The standard deviation of the log-transformed AQI data is: {log_std_dev:.4f}\")\n"
   ]
  },
  {
   "cell_type": "markdown",
   "metadata": {
    "id": "Bajx-iIspBLq"
   },
   "source": [
    "Now, check the first part of the empirical rule: whether 68% of the `aqi_log` data falls within 1 standard deviation of the mean.\n",
    "\n",
    "To compute the actual percentage of the data that satisfies this criteria, define the lower limit (for example, 1 standard deviation below the mean) and the upper limit (for example, 1 standard deviation above the mean). This will enable you to create a range and confirm whether each value falls within it."
   ]
  },
  {
   "cell_type": "code",
   "execution_count": 9,
   "metadata": {
    "id": "cyHe7ElJpwk7"
   },
   "outputs": [
    {
     "name": "stdout",
     "output_type": "stream",
     "text": [
      "Lower Limit (1 std dev below mean): 1.5369403559772625\n",
      "Upper Limit (1 std dev above mean): 2.533895881271893\n"
     ]
    }
   ],
   "source": [
    "# Define variable for lower limit, 1 standard deviation below the mean.\n",
    "\n",
    "\n",
    "# Define variable for upper limit, 1 standard deviation above the mean.\n",
    "\n",
    "\n",
    "# Display lower_limit, upper_limit.\n",
    "import numpy as np\n",
    "\n",
    "# Sample data (Replace with actual aqi_log values)\n",
    "aqi_log = np.random.normal(loc=2, scale=0.5, size=1000)  # Simulated data\n",
    "\n",
    "# Compute mean and standard deviation\n",
    "mean_aqi = np.mean(aqi_log)\n",
    "std_dev_aqi = np.std(aqi_log)\n",
    "\n",
    "# Define lower and upper limits (1 standard deviation from the mean)\n",
    "lower_limit = mean_aqi - std_dev_aqi\n",
    "upper_limit = mean_aqi + std_dev_aqi\n",
    "\n",
    "# Display results\n",
    "print(f\"Lower Limit (1 std dev below mean): {lower_limit}\")\n",
    "print(f\"Upper Limit (1 std dev above mean): {upper_limit}\")\n",
    "\n"
   ]
  },
  {
   "cell_type": "code",
   "execution_count": 10,
   "metadata": {
    "id": "3nsfy9M2uYmJ"
   },
   "outputs": [
    {
     "name": "stdout",
     "output_type": "stream",
     "text": [
      "Lower Limit: 1.5114358917938953\n",
      "Upper Limit: 2.4943983227621285\n",
      "Percentage of data within 1 standard deviation: 69.60%\n"
     ]
    }
   ],
   "source": [
    "# Display the actual percentage of data that falls within 1 standard deviation of the mean.\n",
    "import numpy as np\n",
    "\n",
    "# Sample data (Replace with actual aqi_log values)\n",
    "aqi_log = np.random.normal(loc=2, scale=0.5, size=1000)  # Simulated data\n",
    "\n",
    "# Compute mean and standard deviation\n",
    "mean_aqi = np.mean(aqi_log)\n",
    "std_dev_aqi = np.std(aqi_log)\n",
    "\n",
    "# Define lower and upper limits (1 standard deviation from the mean)\n",
    "lower_limit = mean_aqi - std_dev_aqi\n",
    "upper_limit = mean_aqi + std_dev_aqi\n",
    "\n",
    "# Count data points within 1 standard deviation\n",
    "within_1_std = ((aqi_log >= lower_limit) & (aqi_log <= upper_limit)).sum()\n",
    "\n",
    "# Calculate percentage\n",
    "percentage_within_1_std = (within_1_std / len(aqi_log)) * 100\n",
    "\n",
    "# Display results\n",
    "print(f\"Lower Limit: {lower_limit}\")\n",
    "print(f\"Upper Limit: {upper_limit}\")\n",
    "print(f\"Percentage of data within 1 standard deviation: {percentage_within_1_std:.2f}%\")\n",
    "\n",
    "\n",
    "\n"
   ]
  },
  {
   "cell_type": "markdown",
   "metadata": {
    "id": "ifuD1yuRx399"
   },
   "source": [
    "Now, consider the second part of the empirical rule: whether 95% of the `aqi_log` data falls within 2 standard deviations of the mean.\n",
    "\n",
    "To compute the actual percentage of the data that satisfies this criteria, define the lower limit (for example, 2 standard deviations below the mean) and the upper limit (for example, 2 standard deviations above the mean). This will enable you to create a range and confirm whether each value falls within it."
   ]
  },
  {
   "cell_type": "markdown",
   "metadata": {
    "id": "iDwqzZv7yRU2"
   },
   "source": [
    "Now, consider the third part of the empirical rule:whether 99.7% of the `aqi_log` data falls within 3 standard deviations of the mean.\n",
    "\n",
    "To compute the actual percentage of the data that satisfies this criteria, define the lower limit (for example, 3 standard deviations below the mean) and the upper limit (for example, 3 standard deviations above the mean). This will enable you to create a range and confirm whether each value falls within it."
   ]
  },
  {
   "cell_type": "markdown",
   "metadata": {
    "id": "WMs52bG7Htuc"
   },
   "source": [
    "## **Step 4: Results and evaluation** "
   ]
  },
  {
   "cell_type": "markdown",
   "metadata": {
    "id": "33nFzX120u2z"
   },
   "source": [
    "**Question:** What results did you attain by applying the empirical rule? "
   ]
  },
  {
   "cell_type": "markdown",
   "metadata": {
    "id": "MDp6w9Yu11lm"
   },
   "source": [
    "A:"
   ]
  },
  {
   "cell_type": "markdown",
   "metadata": {
    "id": "yGVspw1N6Zom"
   },
   "source": [
    "**Question:** How would you use z-score to find outliers? "
   ]
  },
  {
   "cell_type": "markdown",
   "metadata": {
    "id": "1tFlqjv112BU"
   },
   "source": [
    "A:"
   ]
  },
  {
   "cell_type": "markdown",
   "metadata": {
    "id": "OiBYE9FW8bSf"
   },
   "source": [
    "Compute the z-score for every `aqi_log` value. Then, add a column named `z_score` in the data to store those results. "
   ]
  },
  {
   "cell_type": "code",
   "execution_count": 11,
   "metadata": {
    "id": "EGh6jJ-a9bph"
   },
   "outputs": [
    {
     "name": "stdout",
     "output_type": "stream",
     "text": [
      "    aqi_log   z_score\n",
      "0  2.248357  0.487759\n",
      "1  1.930868 -0.161022\n",
      "2  2.323844  0.642015\n",
      "3  2.761515  1.536382\n",
      "4  1.882923 -0.258995\n"
     ]
    }
   ],
   "source": [
    "# Compute the z-score for every aqi_log value, and add a column named z_score in the data to store those results.\n",
    "\n",
    " # ddof=degrees of freedom correction (sample vs. population)\n",
    "\n",
    "# Display the first 5 rows to ensure that the new column was added.\n",
    "import numpy as np\n",
    "import pandas as pd\n",
    "\n",
    "# Sample data (Replace with actual aqi_log values)\n",
    "np.random.seed(42)\n",
    "df = pd.DataFrame({'aqi_log': np.random.normal(loc=2, scale=0.5, size=1000)})  # Simulated data\n",
    "\n",
    "# Compute mean and standard deviation\n",
    "mean_aqi = df['aqi_log'].mean()\n",
    "std_dev_aqi = df['aqi_log'].std(ddof=0)  # ddof=0 for population std deviation\n",
    "\n",
    "# Compute z-score\n",
    "df['z_score'] = (df['aqi_log'] - mean_aqi) / std_dev_aqi\n",
    "\n",
    "# Display first 5 rows\n",
    "print(df.head())\n",
    "\n",
    "\n"
   ]
  },
  {
   "cell_type": "markdown",
   "metadata": {
    "id": "0A4dXHJz-r4q"
   },
   "source": [
    "Identify the parts of the data where `aqi_log` is above or below 3 standard deviations of the mean."
   ]
  },
  {
   "cell_type": "code",
   "execution_count": 12,
   "metadata": {
    "id": "uZKI5h2q-5TI"
   },
   "outputs": [
    {
     "name": "stdout",
     "output_type": "stream",
     "text": [
      "      aqi_log   z_score\n",
      "209  3.926366  3.916723\n",
      "262  0.379366 -3.331472\n",
      "478  3.539440  3.126052\n"
     ]
    }
   ],
   "source": [
    "# Display data where `aqi_log` is above or below 3 standard deviations of the mean\n",
    "# Sample data (Replace with actual aqi_log values)\n",
    "np.random.seed(42)\n",
    "df = pd.DataFrame({'aqi_log': np.random.normal(loc=2, scale=0.5, size=1000)})  # Simulated data\n",
    "\n",
    "# Compute mean and standard deviation\n",
    "mean_aqi = df['aqi_log'].mean()\n",
    "std_dev_aqi = df['aqi_log'].std(ddof=0)  # ddof=0 for population std deviation\n",
    "\n",
    "# Compute z-score\n",
    "df['z_score'] = (df['aqi_log'] - mean_aqi) / std_dev_aqi\n",
    "\n",
    "# Filter data where z_score is above or below 3 standard deviations\n",
    "outliers = df[(df['z_score'] > 3) | (df['z_score'] < -3)]\n",
    "\n",
    "# Display results\n",
    "print(outliers)\n"
   ]
  },
  {
   "cell_type": "markdown",
   "metadata": {
    "id": "KKE1k3i4_gHK"
   },
   "source": [
    "**Question:** What do you observe about potential outliers based on the calculations?\n"
   ]
  },
  {
   "cell_type": "markdown",
   "metadata": {
    "id": "VUJidfrT12kv"
   },
   "source": [
    "A:"
   ]
  },
  {
   "cell_type": "markdown",
   "metadata": {
    "id": "WkzrnFdy7nQL"
   },
   "source": [
    "**Question:** Why is outlier detection an important part of this project? "
   ]
  },
  {
   "cell_type": "markdown",
   "metadata": {
    "id": "zGDvFeUc13Aj"
   },
   "source": [
    "A:"
   ]
  },
  {
   "cell_type": "markdown",
   "metadata": {
    "id": "W1bNKZYNHjDr"
   },
   "source": [
    "## **Considerations**"
   ]
  },
  {
   "cell_type": "markdown",
   "metadata": {
    "id": "kecJlWA815Ld"
   },
   "source": [
    "**What are some key takeaways that you learned during this lab?**"
   ]
  },
  {
   "cell_type": "markdown",
   "metadata": {
    "id": "WviSDGgi17BQ"
   },
   "source": [
    "A:"
   ]
  },
  {
   "cell_type": "markdown",
   "metadata": {
    "id": "XQ5JZ-MP17YU"
   },
   "source": [
    "**What summary would you provide to audiences? Consider the distribution of the data and which sites would benefit from additional research.**"
   ]
  },
  {
   "cell_type": "markdown",
   "metadata": {
    "id": "5eJaCTo_19Y4"
   },
   "source": [
    "A:"
   ]
  },
  {
   "cell_type": "markdown",
   "metadata": {
    "id": "K2AW3yb9QtIF"
   },
   "source": [
    "**Reference**\n",
    "\n",
    "US EPA, OAR. 2014, July 8. [Air Data: Air Quality Data Collected at Outdoor Monitors Across the US](https://www.epa.gov/outdoor-air-quality-data). "
   ]
  },
  {
   "cell_type": "markdown",
   "metadata": {},
   "source": []
  }
 ],
 "metadata": {
  "colab": {
   "collapsed_sections": [],
   "provenance": []
  },
  "kernelspec": {
   "display_name": "Python 3",
   "language": "python",
   "name": "python3"
  },
  "language_info": {
   "codemirror_mode": {
    "name": "ipython",
    "version": 3
   },
   "file_extension": ".py",
   "mimetype": "text/x-python",
   "name": "python",
   "nbconvert_exporter": "python",
   "pygments_lexer": "ipython3",
   "version": "3.11.5"
  }
 },
 "nbformat": 4,
 "nbformat_minor": 1
}
