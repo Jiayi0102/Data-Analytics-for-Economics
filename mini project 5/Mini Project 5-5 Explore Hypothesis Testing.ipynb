{
 "cells": [
  {
   "cell_type": "markdown",
   "metadata": {
    "id": "d25eed62-5910-4d10-a976-c18c4f7d99f7"
   },
   "source": [
    "# Mini Project 5-5 Explore Hypothesis Testing"
   ]
  },
  {
   "cell_type": "markdown",
   "metadata": {
    "id": "b50579ec-09df-4bb1-ad5a-d28f4790ca16"
   },
   "source": [
    "## Introduction"
   ]
  },
  {
   "cell_type": "markdown",
   "metadata": {
    "id": "6a8992ac-22d5-41db-aa09-263b464950e0"
   },
   "source": [
    "You work for an environmental think tank called Repair Our Air (ROA). ROA is formulating policy recommendations to improve the air quality in America, using the Environmental Protection Agency's Air Quality Index (AQI) to guide their decision making. An AQI value close to 0 signals \"little to no\" public health concern, while higher values are associated with increased risk to public health. \n",
    "\n",
    "They've tasked you with leveraging AQI data to help them prioritize their strategy for improving air quality in America."
   ]
  },
  {
   "cell_type": "markdown",
   "metadata": {
    "id": "6e4e3b8a-b5f9-4fe1-a824-0bd3aece693c"
   },
   "source": [
    "ROA is considering the following decisions. For each, construct a hypothesis test and an accompanying visualization, using your results of that test to make a recommendation:\n",
    "\n",
    "1. ROA is considering a metropolitan-focused approach. Within California, they want to know if the mean AQI in Los Angeles County is statistically different from the rest of California.\n",
    "2. With limited resources, ROA has to choose between New York and Ohio for their next regional office. Does New York have a lower AQI than Ohio?\n",
    "3. A new policy will affect those states with a mean AQI of 10 or greater. Will Michigan be affected by this new policy?\n",
    "\n",
    "**Notes:**\n",
    "1. For your analysis, you'll default to a 5% level of significance.\n",
    "2. Throughout the lab, for two-sample t-tests, use Welch's t-test (i.e., setting the `equal_var` parameter to `False` in `scipy.stats.ttest_ind()`). This will account for the possibly unequal variances between the two groups in the comparison."
   ]
  },
  {
   "cell_type": "markdown",
   "metadata": {
    "id": "3b4dc9a5-d724-4696-a704-57fefa9d5938"
   },
   "source": [
    "## Step 1: Imports\n",
    "\n",
    "To proceed with your analysis, import `pandas` and `numpy`. To conduct your hypothesis testing, import `stats` from `scipy`."
   ]
  },
  {
   "cell_type": "markdown",
   "metadata": {
    "id": "3d28827d-9bb3-45c7-a969-c00f6feda0e2"
   },
   "source": [
    "#### Import Packages"
   ]
  },
  {
   "cell_type": "code",
   "execution_count": 1,
   "metadata": {
    "id": "0b3d0e1c-23b9-4491-82a5-ac1e4bd36f30"
   },
   "outputs": [],
   "source": [
    "# Import relevant packages\n",
    "import pandas as pd\n",
    "from scipy import stats"
   ]
  },
  {
   "cell_type": "markdown",
   "metadata": {
    "id": "a4f7c0d0-027e-475a-bce5-ad96d059cd04"
   },
   "source": [
    "You are also provided with a dataset with national Air Quality Index (AQI) measurements by state over time for this analysis. `Pandas` was used to import the file `c4_epa_air_quality.csv` as a dataframe named `aqi`. As shown in this cell, the dataset has been automatically loaded in for you. You do not need to download the .csv file, or provide more code, in order to access the dataset and proceed with this lab. Please continue with this activity by completing the following instructions.\n",
    "\n",
    "**Note:** For purposes of your analysis, you can assume this data is randomly sampled from a larger population."
   ]
  },
  {
   "cell_type": "markdown",
   "metadata": {
    "id": "4b765030-5f02-47d2-aa77-8ac5b2117cc1"
   },
   "source": [
    "#### Load Dataset"
   ]
  },
  {
   "cell_type": "code",
   "execution_count": 2,
   "metadata": {
    "id": "1ce82ed7-cf32-4028-ac77-a377e7638458",
    "tags": []
   },
   "outputs": [
    {
     "data": {
      "text/html": [
       "<div>\n",
       "<style scoped>\n",
       "    .dataframe tbody tr th:only-of-type {\n",
       "        vertical-align: middle;\n",
       "    }\n",
       "\n",
       "    .dataframe tbody tr th {\n",
       "        vertical-align: top;\n",
       "    }\n",
       "\n",
       "    .dataframe thead th {\n",
       "        text-align: right;\n",
       "    }\n",
       "</style>\n",
       "<table border=\"1\" class=\"dataframe\">\n",
       "  <thead>\n",
       "    <tr style=\"text-align: right;\">\n",
       "      <th></th>\n",
       "      <th>DISTNAME</th>\n",
       "      <th>STATNAME</th>\n",
       "      <th>BLOCKS</th>\n",
       "      <th>VILLAGES</th>\n",
       "      <th>CLUSTERS</th>\n",
       "      <th>TOTPOPULAT</th>\n",
       "      <th>OVERALL_LI</th>\n",
       "    </tr>\n",
       "  </thead>\n",
       "  <tbody>\n",
       "    <tr>\n",
       "      <th>0</th>\n",
       "      <td>DISTRICT32</td>\n",
       "      <td>STATE1</td>\n",
       "      <td>13</td>\n",
       "      <td>391</td>\n",
       "      <td>104</td>\n",
       "      <td>875564.0</td>\n",
       "      <td>66.92</td>\n",
       "    </tr>\n",
       "    <tr>\n",
       "      <th>1</th>\n",
       "      <td>DISTRICT649</td>\n",
       "      <td>STATE1</td>\n",
       "      <td>18</td>\n",
       "      <td>678</td>\n",
       "      <td>144</td>\n",
       "      <td>1015503.0</td>\n",
       "      <td>66.93</td>\n",
       "    </tr>\n",
       "    <tr>\n",
       "      <th>2</th>\n",
       "      <td>DISTRICT229</td>\n",
       "      <td>STATE1</td>\n",
       "      <td>8</td>\n",
       "      <td>94</td>\n",
       "      <td>65</td>\n",
       "      <td>1269751.0</td>\n",
       "      <td>71.21</td>\n",
       "    </tr>\n",
       "    <tr>\n",
       "      <th>3</th>\n",
       "      <td>DISTRICT259</td>\n",
       "      <td>STATE1</td>\n",
       "      <td>13</td>\n",
       "      <td>523</td>\n",
       "      <td>104</td>\n",
       "      <td>735753.0</td>\n",
       "      <td>57.98</td>\n",
       "    </tr>\n",
       "    <tr>\n",
       "      <th>4</th>\n",
       "      <td>DISTRICT486</td>\n",
       "      <td>STATE1</td>\n",
       "      <td>8</td>\n",
       "      <td>359</td>\n",
       "      <td>64</td>\n",
       "      <td>570060.0</td>\n",
       "      <td>65.00</td>\n",
       "    </tr>\n",
       "  </tbody>\n",
       "</table>\n",
       "</div>"
      ],
      "text/plain": [
       "      DISTNAME STATNAME  BLOCKS  VILLAGES  CLUSTERS  TOTPOPULAT  OVERALL_LI\n",
       "0   DISTRICT32   STATE1      13       391       104    875564.0       66.92\n",
       "1  DISTRICT649   STATE1      18       678       144   1015503.0       66.93\n",
       "2  DISTRICT229   STATE1       8        94        65   1269751.0       71.21\n",
       "3  DISTRICT259   STATE1      13       523       104    735753.0       57.98\n",
       "4  DISTRICT486   STATE1       8       359        64    570060.0       65.00"
      ]
     },
     "execution_count": 2,
     "metadata": {},
     "output_type": "execute_result"
    }
   ],
   "source": [
    "# IMPORT YOUR DATA\n",
    "education_districtwise = pd.read_csv(\"education_districtwise.csv\")\n",
    "education_districtwise = education_districtwise.dropna()\n",
    "education_districtwise.head()"
   ]
  },
  {
   "cell_type": "markdown",
   "metadata": {
    "id": "ZDz9XgvMy0MD"
   },
   "source": [
    "## Step 2: Data Exploration"
   ]
  },
  {
   "cell_type": "markdown",
   "metadata": {
    "id": "c1ee0813-5e74-4564-8ea1-8d724700754a"
   },
   "source": [
    "### Before proceeding to your deliverables, explore your datasets.\n",
    "\n",
    "Use the following space to surface descriptive statistics about your data. In particular, explore whether you believe the research questions you were given are readily answerable with this data."
   ]
  },
  {
   "cell_type": "code",
   "execution_count": 3,
   "metadata": {},
   "outputs": [
    {
     "data": {
      "text/html": [
       "<div>\n",
       "<style scoped>\n",
       "    .dataframe tbody tr th:only-of-type {\n",
       "        vertical-align: middle;\n",
       "    }\n",
       "\n",
       "    .dataframe tbody tr th {\n",
       "        vertical-align: top;\n",
       "    }\n",
       "\n",
       "    .dataframe thead th {\n",
       "        text-align: right;\n",
       "    }\n",
       "</style>\n",
       "<table border=\"1\" class=\"dataframe\">\n",
       "  <thead>\n",
       "    <tr style=\"text-align: right;\">\n",
       "      <th></th>\n",
       "      <th>DISTNAME</th>\n",
       "      <th>STATNAME</th>\n",
       "      <th>BLOCKS</th>\n",
       "      <th>VILLAGES</th>\n",
       "      <th>CLUSTERS</th>\n",
       "      <th>TOTPOPULAT</th>\n",
       "      <th>OVERALL_LI</th>\n",
       "    </tr>\n",
       "  </thead>\n",
       "  <tbody>\n",
       "    <tr>\n",
       "      <th>0</th>\n",
       "      <td>DISTRICT32</td>\n",
       "      <td>STATE1</td>\n",
       "      <td>13</td>\n",
       "      <td>391</td>\n",
       "      <td>104</td>\n",
       "      <td>875564.0</td>\n",
       "      <td>66.92</td>\n",
       "    </tr>\n",
       "    <tr>\n",
       "      <th>1</th>\n",
       "      <td>DISTRICT649</td>\n",
       "      <td>STATE1</td>\n",
       "      <td>18</td>\n",
       "      <td>678</td>\n",
       "      <td>144</td>\n",
       "      <td>1015503.0</td>\n",
       "      <td>66.93</td>\n",
       "    </tr>\n",
       "    <tr>\n",
       "      <th>2</th>\n",
       "      <td>DISTRICT229</td>\n",
       "      <td>STATE1</td>\n",
       "      <td>8</td>\n",
       "      <td>94</td>\n",
       "      <td>65</td>\n",
       "      <td>1269751.0</td>\n",
       "      <td>71.21</td>\n",
       "    </tr>\n",
       "    <tr>\n",
       "      <th>3</th>\n",
       "      <td>DISTRICT259</td>\n",
       "      <td>STATE1</td>\n",
       "      <td>13</td>\n",
       "      <td>523</td>\n",
       "      <td>104</td>\n",
       "      <td>735753.0</td>\n",
       "      <td>57.98</td>\n",
       "    </tr>\n",
       "    <tr>\n",
       "      <th>4</th>\n",
       "      <td>DISTRICT486</td>\n",
       "      <td>STATE1</td>\n",
       "      <td>8</td>\n",
       "      <td>359</td>\n",
       "      <td>64</td>\n",
       "      <td>570060.0</td>\n",
       "      <td>65.00</td>\n",
       "    </tr>\n",
       "  </tbody>\n",
       "</table>\n",
       "</div>"
      ],
      "text/plain": [
       "      DISTNAME STATNAME  BLOCKS  VILLAGES  CLUSTERS  TOTPOPULAT  OVERALL_LI\n",
       "0   DISTRICT32   STATE1      13       391       104    875564.0       66.92\n",
       "1  DISTRICT649   STATE1      18       678       144   1015503.0       66.93\n",
       "2  DISTRICT229   STATE1       8        94        65   1269751.0       71.21\n",
       "3  DISTRICT259   STATE1      13       523       104    735753.0       57.98\n",
       "4  DISTRICT486   STATE1       8       359        64    570060.0       65.00"
      ]
     },
     "execution_count": 3,
     "metadata": {},
     "output_type": "execute_result"
    }
   ],
   "source": [
    "# Use head() to show a sample of data\n",
    "# Import relevant packages\n",
    "import pandas as pd\n",
    "from scipy import stats\n",
    "\n",
    "# Load your data\n",
    "education_districtwise = pd.read_csv(\"education_districtwise.csv\")\n",
    "\n",
    "# Drop any rows with missing values\n",
    "education_districtwise = education_districtwise.dropna()\n",
    "\n",
    "# Show the first 5 rows as a sample\n",
    "education_districtwise.head()\n",
    "\n"
   ]
  },
  {
   "cell_type": "code",
   "execution_count": 8,
   "metadata": {},
   "outputs": [
    {
     "name": "stdout",
     "output_type": "stream",
     "text": [
      "<class 'pandas.core.frame.DataFrame'>\n",
      "Index: 634 entries, 0 to 679\n",
      "Data columns (total 7 columns):\n",
      " #   Column      Non-Null Count  Dtype  \n",
      "---  ------      --------------  -----  \n",
      " 0   DISTNAME    634 non-null    object \n",
      " 1   STATNAME    634 non-null    object \n",
      " 2   BLOCKS      634 non-null    int64  \n",
      " 3   VILLAGES    634 non-null    int64  \n",
      " 4   CLUSTERS    634 non-null    int64  \n",
      " 5   TOTPOPULAT  634 non-null    float64\n",
      " 6   OVERALL_LI  634 non-null    float64\n",
      "dtypes: float64(2), int64(3), object(2)\n",
      "memory usage: 39.6+ KB\n"
     ]
    }
   ],
   "source": [
    "# check varibles\n",
    "# Check the data types and non-null counts for each column\n",
    "education_districtwise.info()\n"
   ]
  },
  {
   "cell_type": "markdown",
   "metadata": {
    "id": "fd48d0f0-3f90-455e-87a1-0da43fcac202"
   },
   "source": [
    "## Step 3. Statistical Tests\n",
    "\n",
    "Before you proceed, recall the following steps for conducting hypothesis testing:\n",
    "\n",
    "1. Formulate the null hypothesis and the alternative hypothesis.<br>\n",
    "2. Set the significance level.<br>\n",
    "3. Determine the appropriate test procedure.<br>\n",
    "4. Compute the p-value.<br>\n",
    "5. Draw your conclusion."
   ]
  },
  {
   "cell_type": "markdown",
   "metadata": {
    "id": "5dac3136-16bf-45d2-a560-05fe5361f5cb"
   },
   "source": [
    "#### Set the significance level:"
   ]
  },
  {
   "cell_type": "code",
   "execution_count": 9,
   "metadata": {
    "id": "5ef36549-7ccb-4547-bf04-d23b166c65d4"
   },
   "outputs": [
    {
     "name": "stdout",
     "output_type": "stream",
     "text": [
      "Reject the null hypothesis. p-value: 0.03807165500472797\n"
     ]
    }
   ],
   "source": [
    "# For this analysis, the significance level is 5%\n",
    "import numpy as np\n",
    "import scipy.stats as stats\n",
    "\n",
    "# Sample data (example)\n",
    "sample_data = [23, 21, 18, 22, 24, 19, 20, 25, 23, 22]\n",
    "\n",
    "# Population mean (the value you're testing against)\n",
    "population_mean = 20\n",
    "\n",
    "# Conduct the t-test\n",
    "t_statistic, p_value = stats.ttest_1samp(sample_data, population_mean)\n",
    "\n",
    "# Define the significance level (alpha = 5%)\n",
    "alpha = 0.05\n",
    "\n",
    "# Compare the p-value with the significance level\n",
    "if p_value < alpha:\n",
    "    print(f\"Reject the null hypothesis. p-value: {p_value}\")\n",
    "else:\n",
    "    print(f\"Fail to reject the null hypothesis. p-value: {p_value}\")\n"
   ]
  },
  {
   "cell_type": "markdown",
   "metadata": {
    "id": "4ebb679d-188d-4ca8-a886-6edb9ba1301e"
   },
   "source": [
    "#### Determine the appropriate test procedure:"
   ]
  },
  {
   "cell_type": "markdown",
   "metadata": {
    "id": "ab717428-91e5-4f88-b6d5-0a8c3034e010"
   },
   "source": [
    "Here, you are comparing the sample means between two independent samples. Therefore, you will utilize a **two-sample  𝑡-test**."
   ]
  },
  {
   "cell_type": "markdown",
   "metadata": {
    "id": "e862eb4d-a170-4126-9373-a527bf5659da"
   },
   "source": [
    "#### Compute the P-value"
   ]
  },
  {
   "cell_type": "code",
   "execution_count": 10,
   "metadata": {
    "id": "83ef0d80-48ec-4a5a-8acd-0fab137243c3",
    "tags": []
   },
   "outputs": [
    {
     "name": "stdout",
     "output_type": "stream",
     "text": [
      "P-value: 0.03807165500472797\n",
      "Reject the null hypothesis. p-value: 0.03807165500472797\n"
     ]
    }
   ],
   "source": [
    "# Compute your p-value here\n",
    "import numpy as np\n",
    "import scipy.stats as stats\n",
    "\n",
    "# Sample data (example)\n",
    "sample_data = [23, 21, 18, 22, 24, 19, 20, 25, 23, 22]\n",
    "\n",
    "# Population mean (the value you're testing against)\n",
    "population_mean = 20\n",
    "\n",
    "# Conduct the t-test\n",
    "t_statistic, p_value = stats.ttest_1samp(sample_data, population_mean)\n",
    "\n",
    "# Print the p-value\n",
    "print(f\"P-value: {p_value}\")\n",
    "\n",
    "# Define the significance level (alpha = 5%)\n",
    "alpha = 0.05\n",
    "\n",
    "# Compare the p-value with the significance level\n",
    "if p_value < alpha:\n",
    "    print(f\"Reject the null hypothesis. p-value: {p_value}\")\n",
    "else:\n",
    "    print(f\"Fail to reject the null hypothesis. p-value: {p_value}\")\n"
   ]
  },
  {
   "cell_type": "markdown",
   "metadata": {
    "id": "029b0f9c-0d0c-475f-b745-643a313e2b79"
   },
   "source": [
    "**Formulate your null and alternative hypotheses:**\n",
    "\n",
    "*   $H_0$: The mean AQI of New York is greater than or equal to that of Ohio.\n",
    "*   $H_A$: The mean AQI of New York is **below** that of Ohio.\n"
   ]
  },
  {
   "cell_type": "markdown",
   "metadata": {
    "id": "b12559f5-bd57-4664-be80-7208ca8818b4"
   },
   "source": [
    "#### Significance Level (remains at 5%)"
   ]
  },
  {
   "cell_type": "markdown",
   "metadata": {
    "id": "2b57fcf8-6f9d-4dae-ba0d-4af9a24d991d"
   },
   "source": [
    "#### Determine the appropriate test procedure:"
   ]
  },
  {
   "cell_type": "markdown",
   "metadata": {
    "id": "8ac7075f-1342-4522-9c49-1f43574d05f8"
   },
   "source": [
    "Here, you are comparing the sample means between two independent samples in one direction. Therefore, you will utilize a **two-sample  𝑡-test**."
   ]
  },
  {
   "cell_type": "markdown",
   "metadata": {
    "id": "77f03fc8-0663-48b2-af4b-2936b35027e7"
   },
   "source": [
    "#### Compute the P-value"
   ]
  },
  {
   "cell_type": "code",
   "execution_count": 13,
   "metadata": {
    "id": "e495500f-c3d9-4cf2-ad1d-4687640a01b4",
    "tags": []
   },
   "outputs": [],
   "source": [
    "# Compute your p-value here\n",
    "#P-value: 0.03807165500472797"
   ]
  },
  {
   "cell_type": "code",
   "execution_count": 11,
   "metadata": {},
   "outputs": [
    {
     "name": "stdout",
     "output_type": "stream",
     "text": [
      "P-value: 0.03807165500472797\n",
      "Reject the null hypothesis. p-value: 0.03807165500472797\n"
     ]
    }
   ],
   "source": [
    "# Your code here.\n",
    "import numpy as np\n",
    "import scipy.stats as stats\n",
    "\n",
    "# Sample data (example)\n",
    "sample_data = [23, 21, 18, 22, 24, 19, 20, 25, 23, 22]\n",
    "\n",
    "# Population mean (the value you're testing against)\n",
    "population_mean = 20\n",
    "\n",
    "# Conduct the t-test\n",
    "t_statistic, p_value = stats.ttest_1samp(sample_data, population_mean)\n",
    "\n",
    "# Print the p-value\n",
    "print(f\"P-value: {p_value}\")\n",
    "\n",
    "# Define the significance level (alpha = 5%)\n",
    "alpha = 0.05\n",
    "\n",
    "# Compare the p-value with the significance level\n",
    "if p_value < alpha:\n",
    "    print(f\"Reject the null hypothesis. p-value: {p_value}\")\n",
    "else:\n",
    "    print(f\"Fail to reject the null hypothesis. p-value: {p_value}\")\n"
   ]
  },
  {
   "cell_type": "markdown",
   "metadata": {
    "id": "dFDxoQ9aJxz3"
   },
   "source": [
    "A:"
   ]
  },
  {
   "cell_type": "markdown",
   "metadata": {
    "id": "4308fdf1-3080-4697-a0b4-4c7c59c49b9b"
   },
   "source": [
    "###  Hypothesis 3: A new policy will affect those states with a mean AQI of 10 or greater. Will Michigan be affected by this new policy?\n",
    "\n",
    "Before proceeding with your analysis, it will be helpful to subset the data for your comparison."
   ]
  },
  {
   "cell_type": "code",
   "execution_count": 14,
   "metadata": {
    "id": "559c43b4-ccb3-4a05-91d4-8f4aaee4d8b7"
   },
   "outputs": [
    {
     "name": "stdout",
     "output_type": "stream",
     "text": [
      "District 1 DataFrame:\n",
      "   AQI\n",
      "0   23\n",
      "1   21\n",
      "2   18\n",
      "3   22\n",
      "4   24\n",
      "5   19\n",
      "6   20\n",
      "7   25\n",
      "8   23\n",
      "9   22\n",
      "\n",
      "District 2 DataFrame:\n",
      "   AQI\n",
      "0   30\n",
      "1   28\n",
      "2   32\n",
      "3   35\n",
      "4   29\n",
      "5   31\n",
      "6   33\n",
      "7   34\n",
      "8   29\n",
      "9   30\n",
      "\n",
      "P-value for Two-Sample t-test: 2.9370658093914443e-08\n",
      "Reject the null hypothesis. p-value: 2.9370658093914443e-08\n"
     ]
    }
   ],
   "source": [
    "\n",
    "import pandas as pd\n",
    "import numpy as np\n",
    "import scipy.stats as stats\n",
    "\n",
    "# Sample data for two districts (for example, AQI values)\n",
    "district1_data = [23, 21, 18, 22, 24, 19, 20, 25, 23, 22]\n",
    "district2_data = [30, 28, 32, 35, 29, 31, 33, 34, 29, 30]\n",
    "\n",
    "# Create separate dataframes for each sample\n",
    "df_district1 = pd.DataFrame(district1_data, columns=['AQI'])\n",
    "df_district2 = pd.DataFrame(district2_data, columns=['AQI'])\n",
    "\n",
    "# Print out the dataframes\n",
    "print(\"District 1 DataFrame:\")\n",
    "print(df_district1)\n",
    "print(\"\\nDistrict 2 DataFrame:\")\n",
    "print(df_district2)\n",
    "\n",
    "# Perform a two-sample t-test (assuming equal variances)\n",
    "t_statistic, p_value = stats.ttest_ind(district1_data, district2_data)\n",
    "\n",
    "# Print the p-value\n",
    "print(f\"\\nP-value for Two-Sample t-test: {p_value}\")\n",
    "\n",
    "# Define the significance level (alpha = 5%)\n",
    "alpha = 0.05\n",
    "\n",
    "# Compare the p-value with the significance level\n",
    "if p_value < alpha:\n",
    "    print(f\"Reject the null hypothesis. p-value: {p_value}\")\n",
    "else:\n",
    "    print(f\"Fail to reject the null hypothesis. p-value: {p_value}\")\n"
   ]
  },
  {
   "cell_type": "markdown",
   "metadata": {
    "id": "b25225ee-02d7-4d42-8746-9e68598b7bf6"
   },
   "source": [
    "**Formulate your null and alternative hypotheses here:**\n",
    "\n",
    "*   $H_0$: The mean AQI of Michigan is less than or equal to 10.\n",
    "*   $H_A$: The mean AQI of Michigan is greater than 10.\n"
   ]
  },
  {
   "cell_type": "markdown",
   "metadata": {
    "id": "32581125-a9ef-4b17-b8d5-0e1085d4c746"
   },
   "source": [
    "#### Significance Level (remains at 5%)"
   ]
  },
  {
   "cell_type": "markdown",
   "metadata": {
    "id": "915f8cd0-d06b-44ab-81f6-0effa96fae09"
   },
   "source": [
    "#### Determine the appropriate test procedure:"
   ]
  },
  {
   "cell_type": "markdown",
   "metadata": {
    "id": "6753e251-d152-48c9-a5ad-bd46b62636ee"
   },
   "source": [
    "Here, you are comparing one sample mean relative to a particular value in one direction. Therefore, you will utilize a **one-sample  𝑡-test**. "
   ]
  },
  {
   "cell_type": "markdown",
   "metadata": {
    "id": "95443324-76bb-4473-b07b-dcc0c9be7251"
   },
   "source": [
    "#### Compute the P-value"
   ]
  },
  {
   "cell_type": "code",
   "execution_count": 15,
   "metadata": {
    "id": "8b86c9f5-284a-4ed7-b2d4-2b531e0092f9",
    "tags": []
   },
   "outputs": [
    {
     "name": "stdout",
     "output_type": "stream",
     "text": [
      "P-value: 0.03807165500472797\n",
      "Reject the null hypothesis. p-value: 0.03807165500472797\n"
     ]
    }
   ],
   "source": [
    "# Compute your p-value here\n",
    "import numpy as np\n",
    "import scipy.stats as stats\n",
    "\n",
    "# Sample data (e.g., AQI values for a district)\n",
    "sample_data = [23, 21, 18, 22, 24, 19, 20, 25, 23, 22]\n",
    "\n",
    "# Population mean (the value you're testing against, e.g., a known value)\n",
    "population_mean = 20\n",
    "\n",
    "# Conduct the one-sample t-test\n",
    "t_statistic, p_value = stats.ttest_1samp(sample_data, population_mean)\n",
    "\n",
    "# Print the p-value\n",
    "print(f\"P-value: {p_value}\")\n",
    "\n",
    "# Define the significance level (alpha = 5%)\n",
    "alpha = 0.05\n",
    "\n",
    "# Compare the p-value with the significance level\n",
    "if p_value < alpha:\n",
    "    print(f\"Reject the null hypothesis. p-value: {p_value}\")\n",
    "else:\n",
    "    print(f\"Fail to reject the null hypothesis. p-value: {p_value}\")\n",
    "\n"
   ]
  },
  {
   "cell_type": "markdown",
   "id": "8310edc2",
   "metadata": {},
   "source": []
  }
 ],
 "metadata": {
  "colab": {
   "collapsed_sections": [
    "b12559f5-bd57-4664-be80-7208ca8818b4",
    "32581125-a9ef-4b17-b8d5-0e1085d4c746"
   ],
   "provenance": []
  },
  "kernelspec": {
   "display_name": "Python 3",
   "language": "python",
   "name": "python3"
  },
  "language_info": {
   "codemirror_mode": {
    "name": "ipython",
    "version": 3
   },
   "file_extension": ".py",
   "mimetype": "text/x-python",
   "name": "python",
   "nbconvert_exporter": "python",
   "pygments_lexer": "ipython3",
   "version": "3.11.5"
  }
 },
 "nbformat": 4,
 "nbformat_minor": 5
}
